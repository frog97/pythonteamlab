{
 "cells": [
  {
   "attachments": {},
   "cell_type": "markdown",
   "metadata": {},
   "source": [
    "연습 문제 7.1: 가변 인자의 간단한 예\n",
    "다음 함수를 정의해 보자.\n",
    "\n",
    "def avg(x,*more):\n",
    "        return float(x+sum(more))/(1+len(more))\n",
    "\n",
    "avg(10,11)\n",
    "10.5\n",
    "avg(3,4,5)\n",
    "4.0\n",
    "avg(1,2,3,4,5,6)\n",
    "3.5\n",
    "\n",
    "\n",
    "*more 매개변수(parameter)가 추가적인 인자를 어떻게 수집하는지 살펴보라."
   ]
  },
  {
   "cell_type": "code",
   "execution_count": 2,
   "metadata": {},
   "outputs": [
    {
     "data": {
      "text/plain": [
       "2.5"
      ]
     },
     "execution_count": 2,
     "metadata": {},
     "output_type": "execute_result"
    }
   ],
   "source": [
    "def avg (x, *more):\n",
    "    return (x + sum(more)) / (1 + len(more))\n",
    "\n",
    "avg(1, 2,3,4)"
   ]
  },
  {
   "cell_type": "code",
   "execution_count": null,
   "metadata": {},
   "outputs": [],
   "source": []
  },
  {
   "attachments": {},
   "cell_type": "markdown",
   "metadata": {},
   "source": [
    "# 연습 문제 7.2: 튜플과 딕셔너리를 인자로 전달\n",
    "데이터 파일을 읽어 다음과 같은 튜플을 얻었다고 하자.\n",
    "\n",
    "```python \n",
    "data = ('GOOG', 100, 490.1)\n",
    "```\n",
    "이 데이터로부터 Stock 객체를 생성하고자 한다. 그런데 data를 직접 전달하면 작동하지 않는다.\n",
    "\n",
    "```python\n",
    "from stock import Stock\n",
    "s = Stock(data)\n",
    "Traceback (most recent call last):\n",
    "  File \"<stdin>\", line 1, in <module>\n",
    "TypeError: __init__() takes exactly 4 arguments (2 given)\n",
    "```\n",
    "\n",
    "그 대신 *data를 사용하면 간단히 해결할 수 있다. 다음과 같이 해 보라.\n",
    "\n",
    "\n",
    "```python\n",
    "s = Stock(*data)\n",
    "s\n",
    "Stock('GOOG', 100, 490.1)\n",
    "```\n",
    "\n",
    "딕셔너리를 사용할 때는 **을 붙인다. 예:\n",
    "\n",
    "```python\n",
    "data = { 'name': 'GOOG', 'shares': 100, 'price': 490.1 }\n",
    "s = Stock(**data)\n",
    "Stock('GOOG', 100, 490.1)\n",
    "```\n",
    "\n"
   ]
  },
  {
   "cell_type": "code",
   "execution_count": 15,
   "metadata": {},
   "outputs": [
    {
     "name": "stdout",
     "output_type": "stream",
     "text": [
      "Collecting fastapi\n",
      "  Downloading fastapi-0.95.0-py3-none-any.whl (57 kB)\n",
      "     -------------------------------------- 57.1/57.1 kB 996.2 kB/s eta 0:00:00\n",
      "Collecting pydantic!=1.7,!=1.7.1,!=1.7.2,!=1.7.3,!=1.8,!=1.8.1,<2.0.0,>=1.6.2\n",
      "  Downloading pydantic-1.10.7-cp38-cp38-win_amd64.whl (2.2 MB)\n",
      "     ---------------------------------------- 2.2/2.2 MB 4.0 MB/s eta 0:00:00\n",
      "Collecting starlette<0.27.0,>=0.26.1\n",
      "  Downloading starlette-0.26.1-py3-none-any.whl (66 kB)\n",
      "     ---------------------------------------- 66.9/66.9 kB 1.8 MB/s eta 0:00:00\n",
      "Requirement already satisfied: typing-extensions>=4.2.0 in .\\.conda\\lib\\site-packages (from pydantic!=1.7,!=1.7.1,!=1.7.2,!=1.7.3,!=1.8,!=1.8.1,<2.0.0,>=1.6.2->fastapi) (4.5.0)\n",
      "Collecting anyio<5,>=3.4.0\n",
      "  Downloading anyio-3.6.2-py3-none-any.whl (80 kB)\n",
      "     ---------------------------------------- 80.6/80.6 kB 4.7 MB/s eta 0:00:00\n",
      "Collecting idna>=2.8\n",
      "  Downloading idna-3.4-py3-none-any.whl (61 kB)\n",
      "     ---------------------------------------- 61.5/61.5 kB 3.4 MB/s eta 0:00:00\n",
      "Collecting sniffio>=1.1\n",
      "  Downloading sniffio-1.3.0-py3-none-any.whl (10 kB)\n",
      "Installing collected packages: sniffio, pydantic, idna, anyio, starlette, fastapi\n",
      "Successfully installed anyio-3.6.2 fastapi-0.95.0 idna-3.4 pydantic-1.10.7 sniffio-1.3.0 starlette-0.26.1\n"
     ]
    }
   ],
   "source": [
    "!pip3 install fastapi"
   ]
  },
  {
   "cell_type": "code",
   "execution_count": 6,
   "metadata": {},
   "outputs": [
    {
     "name": "stderr",
     "output_type": "stream",
     "text": [
      "ERROR: Could not find a version that satisfies the requirement pip.req (from versions: none)\n",
      "ERROR: No matching distribution found for pip.req\n"
     ]
    }
   ],
   "source": [
    "!pip install -U pip.req"
   ]
  },
  {
   "cell_type": "code",
   "execution_count": 7,
   "metadata": {},
   "outputs": [
    {
     "name": "stderr",
     "output_type": "stream",
     "text": [
      "ERROR: Could not find a version that satisfies the requirement pip.req (from versions: none)\n",
      "ERROR: No matching distribution found for pip.req\n"
     ]
    }
   ],
   "source": [
    "!pip install -U pip.req"
   ]
  },
  {
   "cell_type": "code",
   "execution_count": 8,
   "metadata": {},
   "outputs": [
    {
     "ename": "ModuleNotFoundError",
     "evalue": "No module named 'stock'",
     "output_type": "error",
     "traceback": [
      "\u001b[1;31m---------------------------------------------------------------------------\u001b[0m",
      "\u001b[1;31mModuleNotFoundError\u001b[0m                       Traceback (most recent call last)",
      "Cell \u001b[1;32mIn[8], line 1\u001b[0m\n\u001b[1;32m----> 1\u001b[0m \u001b[39mfrom\u001b[39;00m \u001b[39mstock\u001b[39;00m \u001b[39mimport\u001b[39;00m Stock\n\u001b[0;32m      2\u001b[0m data \u001b[39m=\u001b[39m { \u001b[39m'\u001b[39m\u001b[39mname\u001b[39m\u001b[39m'\u001b[39m: \u001b[39m'\u001b[39m\u001b[39mGOOG\u001b[39m\u001b[39m'\u001b[39m, \u001b[39m'\u001b[39m\u001b[39mshares\u001b[39m\u001b[39m'\u001b[39m: \u001b[39m100\u001b[39m, \u001b[39m'\u001b[39m\u001b[39mprice\u001b[39m\u001b[39m'\u001b[39m: \u001b[39m490.1\u001b[39m }\n\u001b[0;32m      3\u001b[0m s \u001b[39m=\u001b[39m Stock(\u001b[39m*\u001b[39m\u001b[39m*\u001b[39mdata)\n",
      "\u001b[1;31mModuleNotFoundError\u001b[0m: No module named 'stock'"
     ]
    }
   ],
   "source": [
    "from stock import Stock\n",
    "data = { 'name': 'GOOG', 'shares': 100, 'price': 490.1 }\n",
    "s = Stock(**data)"
   ]
  },
  {
   "cell_type": "markdown",
   "metadata": {},
   "source": []
  },
  {
   "attachments": {},
   "cell_type": "markdown",
   "metadata": {},
   "source": [
    "# 연습 문제 7.3: 인스턴스의 리스트를 생성\n",
    "report.py 프로그램에서 다음과 같은 코드를 사용해 인스턴스의 리스트를 생성했다.\n",
    "\n",
    "\n",
    "```python \n",
    "def read_portfolio(filename):\n",
    "    주식 포트폴리오 파일을 읽어 딕셔너리의 리스트를 생성.\n",
    "    name, shares, price를 키로 사용.\n",
    "    with open(filename) as lines:\n",
    "        portdicts = fileparse.parse_csv(lines,\n",
    "                               select=['name','shares','price'],\n",
    "                               types=[str,int,float])\n",
    "\n",
    "    portfolio = [ Stock(d['name'], d['shares'], d['price'])\n",
    "                  for d in portdicts ]\n",
    "    return Portfolio(portfolio)\n",
    "```\n",
    "Stock(**d)를 사용해 코드를 단순화할 수 있다. 그렇게 바꿔보라."
   ]
  },
  {
   "cell_type": "markdown",
   "metadata": {},
   "source": []
  }
 ],
 "metadata": {
  "kernelspec": {
   "display_name": "Python 3",
   "language": "python",
   "name": "python3"
  },
  "language_info": {
   "codemirror_mode": {
    "name": "ipython",
    "version": 3
   },
   "file_extension": ".py",
   "mimetype": "text/x-python",
   "name": "python",
   "nbconvert_exporter": "python",
   "pygments_lexer": "ipython3",
   "version": "3.8.16"
  },
  "orig_nbformat": 4
 },
 "nbformat": 4,
 "nbformat_minor": 2
}
