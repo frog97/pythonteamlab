{
 "cells": [
  {
   "cell_type": "code",
   "execution_count": null,
   "metadata": {},
   "outputs": [
    {
     "name": "stdout",
     "output_type": "stream",
     "text": [
      " a\n",
      " b\n",
      " c\n",
      " a\n",
      " b\n",
      " c\n",
      " b\n",
      " ab\n",
      " bc\n",
      " ca\n",
      " ab\n",
      " bc\n",
      " cb\n",
      " abc\n",
      " bca\n",
      " cab\n",
      " abc\n",
      " bcb\n",
      " abca\n",
      " bcab\n",
      " cabc\n",
      " abcb\n",
      " abcab\n",
      " bcabc\n",
      " cabcb\n",
      " abcabc\n",
      " bcabcb\n",
      " abcabcb\n",
      "7\n"
     ]
    }
   ],
   "source": [
    "class Solution:\n",
    "     def inString(self, s : str) -> bool:\n",
    "        a = len(s)\n",
    "        if (a == 0):\n",
    "            return False\n",
    "        for i in range (0, len(s)) :\n",
    "            for j in range (0, len(s)):\n",
    "                if (s[i:i+j] in s[i+j:len(s)]):\n",
    "                    print(s[i:i+j], s[i+j:len(s)])\n",
    "                    return True\n",
    "        print(\"False\" , s)\n",
    "        return False\n",
    "\n",
    "\n",
    "    def lengthOfLongestSubstring(self, s: str) -> int:\n",
    "        a = [char for char in s]\n",
    "        for i in range (0, len(s)) :\n",
    "            for j in range (0, len(s)-i):\n",
    "                    a = s[j:j+i]\n",
    "#                    print(a)\n",
    "                    self.inString(a)\n",
    "\n",
    "        # 0 1\n",
    "        # 1 2\n",
    "        # 2 3\n",
    "\n",
    "        # 0 2\n",
    "        # 1 3\n",
    "\n",
    "             \n",
    "            \n",
    "        return len(a)\n",
    "\n",
    "sol = Solution()\n",
    "lenaa = sol.lengthOfLongestSubstring(s = \"abcabcbb\")\n",
    "print(lenaa)\n",
    "\n",
    "#lenaa = sol.lengthOfLongestSubstring(s = \"bbbbbb\")\n",
    "#print(lenaa)\n",
    "\n",
    "#lenaa = sol.lengthOfLongestSubstring(s = \"pwwkew\")\n",
    "#print(lenaa)\n"
   ]
  },
  {
   "cell_type": "code",
   "execution_count": null,
   "metadata": {},
   "outputs": [],
   "source": []
  }
 ],
 "metadata": {
  "kernelspec": {
   "display_name": "Python 3",
   "language": "python",
   "name": "python3"
  },
  "language_info": {
   "codemirror_mode": {
    "name": "ipython",
    "version": 3
   },
   "file_extension": ".py",
   "mimetype": "text/x-python",
   "name": "python",
   "nbconvert_exporter": "python",
   "pygments_lexer": "ipython3",
   "version": "3.11.2"
  },
  "orig_nbformat": 4,
  "vscode": {
   "interpreter": {
    "hash": "ff23134443fe609adb1b2d09a07955a47254bf942a0c5ce4c0d60b42a504d0ba"
   }
  }
 },
 "nbformat": 4,
 "nbformat_minor": 2
}
