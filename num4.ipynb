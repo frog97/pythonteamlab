{
 "cells": [
  {
   "cell_type": "code",
   "execution_count": 28,
   "metadata": {},
   "outputs": [
    {
     "name": "stdout",
     "output_type": "stream",
     "text": [
      "4 2\n",
      "[1, 2, 3, 4]\n",
      "2.5\n"
     ]
    }
   ],
   "source": [
    "\n",
    "from typing import List\n",
    "\n",
    "class Solution:\n",
    "    def findMedianSortedArrays(self, nums1: List[int], nums2: List[int]) -> float:\n",
    "        listmerged = sorted(nums1 + nums2)\n",
    "        lenlist = len(listmerged)\n",
    "        print(len(listmerged), lenlist//2 )\n",
    "        print(listmerged)\n",
    "        if ((lenlist) % 2) == 1:\n",
    "            return listmerged[lenlist//2]\n",
    "        else:\n",
    "            return ( listmerged[lenlist//2 - 1] + listmerged[lenlist//2 ] ) / 2.0\n",
    "        return 0.0\n",
    "\n",
    "nums1: List[int] = [1, 2]\n",
    "nums2: List[int] = [3, 4]\n",
    "list1 = [1, 3, 5]\n",
    "list2 = [2,4,6]\n",
    "list3 = list1 + list2\n",
    "#print(sorted(list3))\n",
    "sol = Solution()\n",
    "val = sol.findMedianSortedArrays(nums1, nums2)\n",
    "print(val)"
   ]
  },
  {
   "cell_type": "code",
   "execution_count": null,
   "metadata": {},
   "outputs": [],
   "source": []
  }
 ],
 "metadata": {
  "kernelspec": {
   "display_name": "Python 3",
   "language": "python",
   "name": "python3"
  },
  "language_info": {
   "codemirror_mode": {
    "name": "ipython",
    "version": 3
   },
   "file_extension": ".py",
   "mimetype": "text/x-python",
   "name": "python",
   "nbconvert_exporter": "python",
   "pygments_lexer": "ipython3",
   "version": "3.11.2"
  },
  "orig_nbformat": 4
 },
 "nbformat": 4,
 "nbformat_minor": 2
}
