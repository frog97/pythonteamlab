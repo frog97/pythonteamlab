{
 "cells": [
  {
   "cell_type": "code",
   "execution_count": 16,
   "metadata": {},
   "outputs": [],
   "source": [
    "class Solution:\n",
    "    def palindrome(self, s: str) -> str:\n",
    "        r : str = s[::-1]\n",
    "        print(s, r)\n",
    "        if s == r:\n",
    "            print(s)\n",
    "            return True\n",
    "        return False\n",
    "\n",
    "    def longestPalindrome(self, s: str) -> str:\n",
    "        slen = len(s)\n",
    "        ans =\"\"\n",
    "        a = \"\"\n",
    "        if slen == 1:\n",
    "            return s\n",
    "        print(\"s: \", s)\n",
    "        for wlen in range(1, slen+1):\n",
    "            for sp in range(0, slen+1-wlen):                \n",
    "                a = s[sp: sp+wlen]\n",
    "                print(s)\n",
    "                if  self.palindrome(a) == True:\n",
    "                    ans = a\n",
    "                    break\n",
    "        print(\"a\", ans)\n",
    "\n",
    "sol = Solution()\n",
    "\n",
    "sol.longestPalindrome(\"civilwartestingwhetherthatnaptionoranynartionsoconceivedandsodedicatedcanlongendureWeareqmetonagreatbattlefiemldoftzhatwarWehavecometodedicpateaportionofthatfieldasafinalrestingplaceforthosewhoheregavetheirlivesthatthatnationmightliveItisaltogetherfangandproperthatweshoulddothisButinalargersensewecannotdedicatewecannotconsecratewecannothallowthisgroundThebravelmenlivinganddeadwhostruggledherehaveconsecrateditfaraboveourpoorponwertoaddordetractTgheworldadswfilllittlenotlenorlongrememberwhatwesayherebutitcanneverforgetwhattheydidhereItisforusthelivingrathertobededicatedheretotheulnfinishedworkwhichtheywhofoughtherehavethusfarsonoblyadvancedItisratherforustobeherededicatedtothegreattdafskremainingbeforeusthatfromthesehonoreddeadwetakeincreaseddevotiontothatcauseforwhichtheygavethelastpfullmeasureofdevotionthatweherehighlyresolvethatthesedeadshallnothavediedinvainthatthisnationunsderGodshallhaveanewbirthoffreedomandthatgovernmentofthepeoplebythepeopleforthepeopleshallnotperishfromtheearth\")"
   ]
  },
  {
   "cell_type": "code",
   "execution_count": null,
   "metadata": {},
   "outputs": [],
   "source": []
  }
 ],
 "metadata": {
  "kernelspec": {
   "display_name": "Python 3",
   "language": "python",
   "name": "python3"
  },
  "language_info": {
   "codemirror_mode": {
    "name": "ipython",
    "version": 3
   },
   "file_extension": ".py",
   "mimetype": "text/x-python",
   "name": "python",
   "nbconvert_exporter": "python",
   "pygments_lexer": "ipython3",
   "version": "3.11.2"
  },
  "orig_nbformat": 4
 },
 "nbformat": 4,
 "nbformat_minor": 2
}
