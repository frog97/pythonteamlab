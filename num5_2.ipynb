{
 "cells": [
  {
   "cell_type": "code",
   "execution_count": 28,
   "metadata": {},
   "outputs": [
    {
     "name": "stdout",
     "output_type": "stream",
     "text": [
      "s:  abcda\n",
      "a \n"
     ]
    },
    {
     "data": {
      "text/plain": [
       "''"
      ]
     },
     "execution_count": 28,
     "metadata": {},
     "output_type": "execute_result"
    }
   ],
   "source": [
    "class Solution:\n",
    "    def palindrome(self, s: str) -> str:\n",
    "        r : str = s[::-1]\n",
    "        if s == r:\n",
    "#            print(s)\n",
    "            return True\n",
    "        return False\n",
    "\n",
    "    def longestPalindrome(self, s: str) -> str:\n",
    "        slen = len(s)\n",
    "        ans =\"\"\n",
    "        a = \"\"\n",
    "        if slen == 1:\n",
    "            print(\"a\", s)\n",
    "            return s\n",
    "        if slen == 0:\n",
    "            return s\n",
    "        if slen == 2:\n",
    "            if s == s[::-1]:\n",
    "                print(\"a\", s)\n",
    "                return s    \n",
    "            else :\n",
    "                print(\"a\", s[0:1])\n",
    "                return s[0:1]\n",
    "\n",
    "        print(\"s: \", s)\n",
    "        for wlen in range(slen+1, 1):\n",
    "            print (wlen)\n",
    "            for sp in range(0, slen+1-wlen):                \n",
    "                a = s[sp: sp+wlen]\n",
    "#                print(s)\n",
    "                if  self.palindrome(a) == True:\n",
    "                    ans = a\n",
    "                    break\n",
    "        print(\"a\", ans)\n",
    "        return ans\n",
    "\n",
    "\n",
    "sol = Solution()\n",
    "sol.longestPalindrome(\"abcda\")\n",
    "\n",
    "#sol.longestPalindrome(\"ciiiivilivwar\")\n",
    "#sol.longestPalindrome(\"civilwartestingwhetherthatnaptionoranynartionsoconceivedandsodedicatedcanlongendureWeareqmetonagreatbattlefiemldoftzhatwarWehavecometodedicpateaportionofthatfieldasafinalrestingplaceforthosewhoheregavetheirlivesthatthatnationmightliveItisaltogetherfangandproperthatweshoulddothisButinalargersensewecannotdedicatewecannotconsecratewecannothallowthisgroundThebravelmenlivinganddeadwhostruggledherehaveconsecrateditfaraboveourpoorponwertoaddordetractTgheworldadswfilllittlenotlenorlongrememberwhatwesayherebutitcanneverforgetwhattheydidhereItisforusthelivingrathertobededicatedheretotheulnfinishedworkwhichtheywhofoughtherehavethusfarsonoblyadvancedItisratherforustobeherededicatedtothegreattdafskremainingbeforeusthatfromthesehonoreddeadwetakeincreaseddevotiontothatcauseforwhichtheygavethelastpfullmeasureofdevotionthatweherehighlyresolvethatthesedeadshallnothavediedinvainthatthisnationunsderGodshallhaveanewbirthoffreedomandthatgovernmentofthepeoplebythepeopleforthepeopleshallnotperishfromtheearth\")"
   ]
  },
  {
   "cell_type": "code",
   "execution_count": null,
   "metadata": {},
   "outputs": [],
   "source": []
  }
 ],
 "metadata": {
  "kernelspec": {
   "display_name": "Python 3",
   "language": "python",
   "name": "python3"
  },
  "language_info": {
   "codemirror_mode": {
    "name": "ipython",
    "version": 3
   },
   "file_extension": ".py",
   "mimetype": "text/x-python",
   "name": "python",
   "nbconvert_exporter": "python",
   "pygments_lexer": "ipython3",
   "version": "3.11.2"
  },
  "orig_nbformat": 4
 },
 "nbformat": 4,
 "nbformat_minor": 2
}
