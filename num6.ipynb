{
 "cells": [
  {
   "cell_type": "code",
   "execution_count": 11,
   "metadata": {},
   "outputs": [
    {
     "ename": "SyntaxError",
     "evalue": "invalid syntax (2137907814.py, line 6)",
     "output_type": "error",
     "traceback": [
      "\u001b[1;36m  Cell \u001b[1;32mIn[11], line 6\u001b[1;36m\u001b[0m\n\u001b[1;33m    myl2 =[][]\u001b[0m\n\u001b[1;37m             ^\u001b[0m\n\u001b[1;31mSyntaxError\u001b[0m\u001b[1;31m:\u001b[0m invalid syntax\n"
     ]
    }
   ],
   "source": [
    "class Solution2:\n",
    "    def convert(self, s: str, numRows: int) -> str:\n",
    "        if numRows == 1: #예외 처리 - 한 줄이면 그대로 반환\n",
    "            return s\n",
    "        \n",
    "        store = [[] for _ in range(numRows)] # numRows만큼 재배치할 행을 초기화\n",
    "        answer = ''\n",
    "\n",
    "        i = 0 # 문자 넣어 줄 행의 값\n",
    "        toggleDown = True\n",
    "\n",
    "        for x in s:\n",
    "            store[i].append(x)\n",
    "            if i == 0: # 현재 위치가 첫 번째 행이면 아래로 \n",
    "                toggleDown = True\n",
    "            elif i == numRows - 1: # 현재 위치가 끝 행이면 위로\n",
    "                toggleDown = False\n",
    "            if toggleDown:\n",
    "                i += 1\n",
    "            else:\n",
    "                i -= 1\n",
    "\n",
    "        for i in range(numRows):\n",
    "            answer += ''.join(store[i])\n",
    "\n",
    "        return answer\n",
    "\n",
    "class Solution:\n",
    "    def convert(self, s: str, numRows: int) -> str:\n",
    "        ret = \"s\"\n",
    "        myl = list(s) \n",
    "        print(s, myl, numRows)\n",
    "        myl2 =[][]\n",
    "        myl2.append(numRows)\n",
    "        myl2[0].append(10)\n",
    "        myl2[0][0] = myl[0]\n",
    "        return ret\n",
    "\n",
    "\n",
    "sol = Solution()\n",
    "sol.convert(\"PAYPALISHIRING\", 3)"
   ]
  },
  {
   "cell_type": "code",
   "execution_count": null,
   "metadata": {},
   "outputs": [],
   "source": []
  }
 ],
 "metadata": {
  "kernelspec": {
   "display_name": "Python 3",
   "language": "python",
   "name": "python3"
  },
  "language_info": {
   "codemirror_mode": {
    "name": "ipython",
    "version": 3
   },
   "file_extension": ".py",
   "mimetype": "text/x-python",
   "name": "python",
   "nbconvert_exporter": "python",
   "pygments_lexer": "ipython3",
   "version": "3.11.3"
  },
  "orig_nbformat": 4
 },
 "nbformat": 4,
 "nbformat_minor": 2
}
