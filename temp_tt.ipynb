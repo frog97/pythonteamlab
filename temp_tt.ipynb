{
 "cells": [
  {
   "cell_type": "code",
   "execution_count": 19,
   "metadata": {},
   "outputs": [
    {
     "name": "stdout",
     "output_type": "stream",
     "text": [
      "au\n",
      "\n",
      "\n",
      "\n",
      "a\n",
      "u\n",
      "\n",
      "au\n",
      "u\n",
      "\n",
      "2\n"
     ]
    },
    {
     "data": {
      "text/plain": [
       "2"
      ]
     },
     "execution_count": 19,
     "metadata": {},
     "output_type": "execute_result"
    }
   ],
   "source": [
    "class Solution:\n",
    "    def inString(self, s : str) -> bool:\n",
    "        a = len(s)\n",
    "        if (a == 0):\n",
    "            return False\n",
    "        #print(s)\n",
    "        ch =  [char for char in s]\n",
    "        for i in range (0, len(s) ):\n",
    "             for j in range (0, len(s)):\n",
    "                  if (i != j):\n",
    "                       if (ch[i] == ch[j]):\n",
    "                            return True\n",
    "        return False\n",
    "\n",
    "\n",
    "    def lengthOfLongestSubstring(self, s: str) -> int:\n",
    "        maxlen = 1\n",
    "        newlen = 1\n",
    "        print (s)\n",
    "        for i in range (0, len(s)+1) :\n",
    "            for j in range (0, len(s)+1):\n",
    "                a = s[j:j+i]\n",
    "                print (a)\n",
    "                if ( self.inString(a) == False):\n",
    "                    newlen = len(a)\n",
    "                if (maxlen < newlen):\n",
    "                    maxlen = newlen    \n",
    "        print(maxlen)\n",
    "        return maxlen\n",
    "sol = Solution()\n",
    "sol.lengthOfLongestSubstring(\"au\")"
   ]
  },
  {
   "cell_type": "code",
   "execution_count": null,
   "metadata": {},
   "outputs": [],
   "source": []
  }
 ],
 "metadata": {
  "kernelspec": {
   "display_name": "Python 3",
   "language": "python",
   "name": "python3"
  },
  "language_info": {
   "codemirror_mode": {
    "name": "ipython",
    "version": 3
   },
   "file_extension": ".py",
   "mimetype": "text/x-python",
   "name": "python",
   "nbconvert_exporter": "python",
   "pygments_lexer": "ipython3",
   "version": "3.11.2"
  },
  "orig_nbformat": 4
 },
 "nbformat": 4,
 "nbformat_minor": 2
}
