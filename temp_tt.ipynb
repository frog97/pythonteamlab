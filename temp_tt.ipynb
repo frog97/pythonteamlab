{
 "cells": [
  {
   "cell_type": "code",
   "execution_count": 29,
   "metadata": {},
   "outputs": [
    {
     "name": "stdout",
     "output_type": "stream",
     "text": [
      "ab\n",
      "1\n"
     ]
    },
    {
     "data": {
      "text/plain": [
       "1"
      ]
     },
     "execution_count": 29,
     "metadata": {},
     "output_type": "execute_result"
    }
   ],
   "source": [
    "class Solution:\n",
    "    def inString(self, s : str) -> bool:\n",
    "        a = len(s)\n",
    "        tlen = len(s)\n",
    "        if (a == 0):\n",
    "            return False\n",
    "        #print(s)\n",
    "        ch =  [char for char in s]\n",
    "        for i in range (0, tlen ):\n",
    "             for j in range (0, tlen):\n",
    "                  if (i != j):\n",
    "                       if (ch[i] == ch[j]):\n",
    "                            return True\n",
    "        return False\n",
    "\n",
    "\n",
    "    def lengthOfLongestSubstring(self, s: str) -> int:\n",
    "        maxlen = 1\n",
    "        newlen = 1\n",
    "        tlen = len(s)\n",
    "        limitlen = 58\n",
    "        if tlen < limitlen:\n",
    "            limitlen = tlen \n",
    "        print (s)\n",
    "        for wlen in range (2, limitlen):\n",
    "            for i in range (0, tlen+1-wlen) :\n",
    "                a = s[i:i+wlen]\n",
    "                print (a)\n",
    "                if (self.inString(a) == False):\n",
    "                    newlen = len(a)\n",
    "                if (maxlen < newlen):\n",
    "                    maxlen = newlen   \n",
    "                self.inString(a)\n",
    "        print(maxlen)\n",
    "        return maxlen   \n",
    "sol = Solution()\n",
    "sol.lengthOfLongestSubstring(\"ab\")\n",
    "#sol.lengthOfLongestSubstring(\"abcabcbb\")\n",
    "#sol.lengthOfLongestSubstring(\"hijklmnopqrstuvwxyzABCDEFGHIJKLMNOPQRSTUVWXYZ0123456789hijklmnopqrstuvwxyzABCDEFGHIJKLMNOPQRSTUVWXYZ0123456789hijklmnopqrstuvwxyzABCDEFGHIJKLMNOPQRSTUVWXYZ0123456789hijklmnopqrstuvwxyzABCDEFGHIJKLMNOPQRSTUVWXYZ0123456789hijklmnopqrstuvwxyzABCDEFGHIJKLMNOPQRSTUVWXYZ0123456789hijklmnopqrstuvwxyzABCDEFGHIJKLMNOPQRSTUVWXYZ0123456789\")"
   ]
  },
  {
   "cell_type": "code",
   "execution_count": null,
   "metadata": {},
   "outputs": [],
   "source": []
  }
 ],
 "metadata": {
  "kernelspec": {
   "display_name": "Python 3",
   "language": "python",
   "name": "python3"
  },
  "language_info": {
   "codemirror_mode": {
    "name": "ipython",
    "version": 3
   },
   "file_extension": ".py",
   "mimetype": "text/x-python",
   "name": "python",
   "nbconvert_exporter": "python",
   "pygments_lexer": "ipython3",
   "version": "3.11.2"
  },
  "orig_nbformat": 4,
  "vscode": {
   "interpreter": {
    "hash": "ff23134443fe609adb1b2d09a07955a47254bf942a0c5ce4c0d60b42a504d0ba"
   }
  }
 },
 "nbformat": 4,
 "nbformat_minor": 2
}
