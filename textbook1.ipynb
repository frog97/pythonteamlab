{
 "cells": [
  {
   "cell_type": "code",
   "execution_count": 10,
   "metadata": {},
   "outputs": [
    {
     "name": "stdout",
     "output_type": "stream",
     "text": [
      "None\n"
     ]
    }
   ],
   "source": [
    "def factorial(n):\n",
    "    if n == 1:\n",
    "        return 1\n",
    "    else:\n",
    "        factorial(n-1)\n",
    "\n",
    "print(factorial(10))\n"
   ]
  },
  {
   "cell_type": "code",
   "execution_count": 11,
   "metadata": {},
   "outputs": [
    {
     "name": "stdout",
     "output_type": "stream",
     "text": [
      "hello world\n"
     ]
    }
   ],
   "source": [
    "def print_hello_world():\n",
    "    print(\"hello world\")\n",
    "\n",
    "print_hello_world()"
   ]
  },
  {
   "cell_type": "code",
   "execution_count": 12,
   "metadata": {},
   "outputs": [
    {
     "name": "stdout",
     "output_type": "stream",
     "text": [
      "a\n",
      "b\n",
      "c\n",
      "d\n",
      "e\n"
     ]
    }
   ],
   "source": [
    "a = 'abcde'\n",
    "for i in range (0, 5):\n",
    "    print(a[i])\n"
   ]
  },
  {
   "cell_type": "code",
   "execution_count": 13,
   "metadata": {},
   "outputs": [
    {
     "name": "stdout",
     "output_type": "stream",
     "text": [
      "e\n",
      "d\n",
      "c\n",
      "b\n",
      "a\n"
     ]
    }
   ],
   "source": [
    "a = 'abcde'\n",
    "for i in range (-1, -6,-1):\n",
    "    print(a[i])\n"
   ]
  },
  {
   "cell_type": "code",
   "execution_count": 14,
   "metadata": {},
   "outputs": [
    {
     "name": "stdout",
     "output_type": "stream",
     "text": [
      "Gachon  AND  niversity\n",
      "Gachon University\n",
      "Gachon University\n",
      "Gco nvriy ytisrevinU nohcaG\n"
     ]
    }
   ],
   "source": [
    "a = \"Gachon University\"\n",
    "print(a[0:6], \" AND \", a[-9:])\n",
    "print(a[:])\n",
    "print(a[-50:50])\n",
    "print(a[::2], a[::-1])"
   ]
  },
  {
   "cell_type": "code",
   "execution_count": 15,
   "metadata": {},
   "outputs": [
    {
     "name": "stdout",
     "output_type": "stream",
     "text": [
      "TEAMTEAM LABLAB\n",
      "TEAM\n"
     ]
    }
   ],
   "source": [
    "a = \"TEAM\"\n",
    "b = \"LAB\"\n",
    "\n",
    "print(a*2 + \" \" + b*2)\n",
    "if 'A' in a:\n",
    "    print (a)\n",
    "else:\n",
    "    print(b)\n"
   ]
  },
  {
   "cell_type": "code",
   "execution_count": 16,
   "metadata": {},
   "outputs": [
    {
     "name": "stdout",
     "output_type": "stream",
     "text": [
      "7\n",
      "6\n",
      "5\n",
      "4\n",
      "3\n",
      "2\n",
      "1\n"
     ]
    }
   ],
   "source": [
    "# stack..\n",
    "\n",
    "word = \"1234567\"\n",
    "\n",
    "word_list = list(word)\n",
    "for i in range(len(word_list)):\n",
    "    print(word_list.pop())"
   ]
  },
  {
   "cell_type": "code",
   "execution_count": 17,
   "metadata": {},
   "outputs": [
    {
     "name": "stdout",
     "output_type": "stream",
     "text": [
      "1\n",
      "2\n",
      "3\n",
      "4\n",
      "5\n",
      "6\n",
      "7\n"
     ]
    }
   ],
   "source": [
    "word = \"1234567\"\n",
    "\n",
    "word_list = list(word)\n",
    "for i in range(len(word_list)):\n",
    "    print(word_list.pop(0))"
   ]
  },
  {
   "attachments": {},
   "cell_type": "markdown",
   "metadata": {},
   "source": [
    "# tuple\n",
    "튜플  (tuple)\n",
    "- 값의  변경이  불가능한  리스트\n",
    "- 선언  시  “[ ]” 가     아닌  “( )”를  사용\n",
    "- 리스트의 연산, 인덱싱, 슬라이싱 등을 동일하게 사용\n",
    "\n",
    "왜  쓸까?\n",
    "프로그램을  작동하는  동안  변경되지  않은  데이터의  저장 \n",
    "Ex) 학번, 이름, 우편번호  등등"
   ]
  },
  {
   "cell_type": "markdown",
   "metadata": {},
   "source": []
  },
  {
   "cell_type": "code",
   "execution_count": 18,
   "metadata": {},
   "outputs": [
    {
     "name": "stdout",
     "output_type": "stream",
     "text": [
      "(1, 2, 3, 1, 2, 3) (1, 2, 3, 1, 2, 3)\n"
     ]
    },
    {
     "data": {
      "text/plain": [
       "3"
      ]
     },
     "execution_count": 18,
     "metadata": {},
     "output_type": "execute_result"
    }
   ],
   "source": [
    "t = (1,2,3)\n",
    "print (t + t , t * 2) # (1, 2, 3, 1, 2, 3) (1, 2, 3, 1, 2, 3) \n",
    "len(t) "
   ]
  },
  {
   "cell_type": "code",
   "execution_count": 19,
   "metadata": {},
   "outputs": [],
   "source": [
    " t = (1, )  "
   ]
  },
  {
   "cell_type": "code",
   "execution_count": 20,
   "metadata": {},
   "outputs": [
    {
     "data": {
      "text/plain": [
       "(1,)"
      ]
     },
     "execution_count": 20,
     "metadata": {},
     "output_type": "execute_result"
    }
   ],
   "source": [
    "t"
   ]
  },
  {
   "attachments": {},
   "cell_type": "markdown",
   "metadata": {},
   "source": [
    "집합  (set)\n",
    "- 값을  순서없이  저장, 중복  불허  하는  자료형 \n",
    "- set 객체  선언을  이용하여  객체  생성"
   ]
  },
  {
   "cell_type": "code",
   "execution_count": 24,
   "metadata": {},
   "outputs": [
    {
     "name": "stdout",
     "output_type": "stream",
     "text": [
      "{1, 2, 3}\n",
      "{1, 2, 3}\n",
      "{2, 3}\n",
      "{2}\n",
      "set()\n",
      "{1, 4, 5, 6, 7}\n"
     ]
    }
   ],
   "source": [
    "s = set([1,2,3,1,2,3])      #  set 함수를  사용  1,2,3을   집합  객체  생성 \n",
    "print(s)\n",
    "\n",
    "s.add(1) \n",
    "print(s)\n",
    "\n",
    "s.remove(1)\n",
    "#  한  원소  1만  추가,  추가, 중복불허로  추가  되지  않음 \n",
    "#  1 삭제\n",
    "print(s)\n",
    "\n",
    "s.discard(3) \n",
    "print(s)\n",
    "\n",
    "s.clear()\n",
    "print(s)\n",
    "\n",
    "s.update([1,4,5,6,7]) #  [1,4,5,6,7] 추가\n",
    "print(s)\n",
    "#  3 삭제\n",
    "# 모든 원소 삭제"
   ]
  }
 ],
 "metadata": {
  "kernelspec": {
   "display_name": "Python 3",
   "language": "python",
   "name": "python3"
  },
  "language_info": {
   "codemirror_mode": {
    "name": "ipython",
    "version": 3
   },
   "file_extension": ".py",
   "mimetype": "text/x-python",
   "name": "python",
   "nbconvert_exporter": "python",
   "pygments_lexer": "ipython3",
   "version": "3.11.2"
  },
  "orig_nbformat": 4,
  "vscode": {
   "interpreter": {
    "hash": "ff23134443fe609adb1b2d09a07955a47254bf942a0c5ce4c0d60b42a504d0ba"
   }
  }
 },
 "nbformat": 4,
 "nbformat_minor": 2
}
